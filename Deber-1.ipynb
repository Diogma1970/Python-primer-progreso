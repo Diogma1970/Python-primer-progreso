{
 "cells": [
  {
   "cell_type": "markdown",
   "id": "1325500b",
   "metadata": {},
   "source": [
    "# **Tarea 1:  Aplicación de estructuras básicas de Python**\n",
    "\n",
    "## 1.- Serie Fibonacci\n",
    "\n",
    "Escribe un programa que imprima en pantalla los n primeros números de la Serie de Fibonacci, donde n es ingresado por teclado."
   ]
  },
  {
   "cell_type": "markdown",
   "id": "66e76709",
   "metadata": {},
   "source": [
    "### Explicación\n",
    "La serie de Fibonacci es una secuencia de números donde cada número es la suma de los dos anteriores, comenzando con 0 y 1.\n",
    "\n",
    "Para hacer esto se empleó estructuras de control bucles (while) para evitar ingresar un nuúmero negativo o igual que 0 y poder generar la serie Fibonacci.\n",
    "\n",
    "Para la creación de la serie se necesita tanto del buclé como de tres formulas:\n",
    "- El valor de \"a\" se guarda temporalmente en \"c\" \n",
    "    ```py\n",
    "    c = a\n",
    "    ```\n",
    "- El valor de \"b\" se pasa a ser el nuevo \"a\" \n",
    "    ```py\n",
    "    a = b\n",
    "    ```\n",
    "- El nuevo valor de b(el siguiente número de la serie Fibonacci) se calcula sumando el antiguo valor de \"a\"(guardado en \"c\") y el nuevo valor de \"a\" (el número que era \"b\")\n",
    "    ```py\n",
    "    b = c + b\n",
    "    ```"
   ]
  },
  {
   "cell_type": "code",
   "execution_count": 11,
   "id": "d8b9960a",
   "metadata": {},
   "outputs": [
    {
     "name": "stdout",
     "output_type": "stream",
     "text": [
      "Serie Fibonacci:\n",
      "0 \n",
      "1 \n",
      "1 \n",
      "2 \n",
      "3 \n",
      "5 \n",
      "8 \n",
      "13 \n",
      "21 \n"
     ]
    }
   ],
   "source": [
    "x = int(input(\"Ingrese la cantidad de números de la serie Fibonacci a generar: \"))\n",
    "a, b, c = 0, 1, 0\n",
    "count = 0\n",
    "while x <= 0:\n",
    "    print(\"Por favor ingrese un número entero mayor que 0\")\n",
    "    x = int(input(\"Ingrese la cantidad de números de la serie Fibonacci a generar: \"))\n",
    "print(\"Serie Fibonacci:\")\n",
    "while count < x:\n",
    "    print(a, end=' ')\n",
    "    c = a\n",
    "    a = b        \n",
    "    b = c + a\n",
    "    count += 1        \n",
    "    print() "
   ]
  },
  {
   "cell_type": "markdown",
   "id": "2fd7192a",
   "metadata": {},
   "source": [
    "## 2.- Tabla de multiplicar\n",
    "\n",
    "Escribe un programa que imprima en pantalla la tabla de multiplicar de n del 1 al 12, donde n es ingresado por teclado.\n"
   ]
  },
  {
   "cell_type": "markdown",
   "id": "4884b49c",
   "metadata": {},
   "source": [
    "### Explicación\n",
    "\n",
    "Para esta tabla de multiplicar se necesitó una estructura de control bucle (for) definido de 1 hasta 13.\n",
    "\n",
    "Y emplea una función f-string(se coloca la letra \"f\" antes de comenzar con la cadena de texto) que permite \"**incrustar expresiones**\" dentro de la cadena de texto se puede simplificar algunos pasos. \n",
    "```py\n",
    "print(f\"{n} x {i} = {n * i}\")\n",
    "```"
   ]
  },
  {
   "cell_type": "code",
   "execution_count": 12,
   "id": "97569ab7",
   "metadata": {},
   "outputs": [
    {
     "name": "stdout",
     "output_type": "stream",
     "text": [
      "Tabla de multiplicar del : 3\n",
      "3 x 1 = 3\n",
      "3 x 2 = 6\n",
      "3 x 3 = 9\n",
      "3 x 4 = 12\n",
      "3 x 5 = 15\n",
      "3 x 6 = 18\n",
      "3 x 7 = 21\n",
      "3 x 8 = 24\n",
      "3 x 9 = 27\n",
      "3 x 10 = 30\n",
      "3 x 11 = 33\n",
      "3 x 12 = 36\n"
     ]
    }
   ],
   "source": [
    "n = int(input(\"Ingrese un número para generar su tabla de multiplicar del 1 al 12: \"))\n",
    "print(\"Tabla de multiplicar del :\", n)\n",
    "for i in range(1, 13, 1):\n",
    "    print(f\"{n} x {i} = {n * i}\")"
   ]
  },
  {
   "cell_type": "markdown",
   "id": "8cbf2074",
   "metadata": {},
   "source": [
    "## 3.- Juego de Adivinanza\n",
    "Crea un programa que: \n",
    "\n",
    "- Genere un número entero aleatorio entre 1 y 10.\n",
    "- Pida al usuario que intente adivinarlo.\n",
    "- Indique si el numero ingresado es mayor, menor o correcto\n",
    "- Permita hasta tres intentos al usuario."
   ]
  },
  {
   "cell_type": "markdown",
   "id": "2f348944",
   "metadata": {},
   "source": [
    "### Explicación\n",
    "\n",
    "Para realizar este programa se tuvo que importar la libreria **_\"random\"_** la cual va a permitir crear el número aleatorio que se debe adivinar entre 1-10.\n",
    "```py\n",
    "from random import randint as rd \n",
    "num = rd(1,10)\n",
    "```\n",
    "Luego se pide que se ingrese un número entre el rango que ya se habia definido, y se entra en un buclé que llega hasta las 3 oportunidades que tiene el usuario.\n",
    "\n",
    "Dentro de ese bublé usamos 4 estructuras de control condicionales (if, else):\n",
    "\n",
    "En la primera y la ultima estructura de control condicional se utiliza la estructura de control de flujo \"brake\" para poder finalizar el buclé con un mensaje que depende de si se adivinó el número o si no se logró.\n",
    "\n",
    "Las otras dos estructuras de control condicional determinan si el número que se ingresó es mayor o menor al número a adivinar. "
   ]
  },
  {
   "cell_type": "code",
   "execution_count": 13,
   "id": "e7dbcc1f",
   "metadata": {},
   "outputs": [
    {
     "name": "stdout",
     "output_type": "stream",
     "text": [
      "El numero ingresado es mayor que el numero a adivinar\n",
      "El numero ingresado es mayor que el numero a adivinar\n",
      "Felicidades, adivinaste el numero\n"
     ]
    }
   ],
   "source": [
    "from random import randint as rd \n",
    "num = rd(1,10)\n",
    "\n",
    "x = int(input(\"Adivine un numero entre 1 - 10 (solo tiene 3 oportunidades): \"))\n",
    "intentos = 1\n",
    "##print(\"El numero random es: \", num)\n",
    "while intentos < 4:\n",
    "    if x == num and intentos <=3:\n",
    "        print(\"Felicidades, adivinaste el numero\")\n",
    "        break\n",
    "    if x < num and intentos <= 3:\n",
    "        print(\"El numero ingresado es menor que el numero a adivinar\")\n",
    "        x = int(input(\"Intente de nuevo: \"))\n",
    "    else:\n",
    "        print(\"El numero ingresado es mayor que el numero a adivinar\")\n",
    "        x = int(input(\"Intente de nuevo: \"))\n",
    "    intentos += 1\n",
    "    if num!= x and intentos == 3:\n",
    "        print(\"Lo siento, no adivinaste el numero. El numero era:\", num)\n",
    "        break"
   ]
  },
  {
   "cell_type": "markdown",
   "id": "aa837bef",
   "metadata": {},
   "source": [
    "## 4.- Año bisiesto\n",
    "Escribe un programa que reciba un año como entrada y determine si es bisiesto o no.\n",
    "\n",
    "Pista: Un año es bisiesto si es divisible por 4, pero no por 100, excepto si también es divisible por 400."
   ]
  },
  {
   "cell_type": "markdown",
   "id": "0797291a",
   "metadata": {},
   "source": [
    "### Explicación\n",
    "\n",
    "En este programa lo principal son tanto las condiciones para decir que un año es bisiesto como las estructuras de control empleadas.\n",
    "\n",
    "En la parte de las condiciones se piden tres especificas, dos de ellas estan ligadas entre si y una es totalmente a parte:\n",
    "\n",
    "- Es divisible por 4:\n",
    "    ```py\n",
    "    c1 = y % 4\n",
    "    ```\n",
    "    Esta operación permite saber si la división para 4 es exacta o no.\n",
    "\n",
    "- No es divisible para 100:\n",
    "    ```py    \n",
    "    c2 = y % 100\n",
    "    ```\n",
    "    Esta operación permite saber si la división para 100 es exacta o no.\n",
    "\n",
    "Estas dos condiciones están ligadas entre si, eso quiere decir de que en caso de que las dos no se cumpla el año ingresado no es bisisto, exepto si ocurre la siguiente situación:\n",
    "\n",
    "- Es divisible para 400:\n",
    "    ```py\n",
    "    c3 = y % 400\n",
    "    ```\n",
    "    Esta operación permite saber si la división para 100 es exacta o no.\n",
    "\n",
    "Con respecto a las estructuras de control solo definirán si el año ingresado es bisisto o no.\n",
    "\n",
    "En la parte de \"if\" se coloca las diferentes condiciones y en caso de que se cumplan se manda el mensaje de que el año es bisiesto, en \"else\" se indica lo contrario."
   ]
  },
  {
   "cell_type": "code",
   "execution_count": 16,
   "id": "8d7e7e43",
   "metadata": {},
   "outputs": [
    {
     "name": "stdout",
     "output_type": "stream",
     "text": [
      "El año 2000 es bisiesto.\n"
     ]
    }
   ],
   "source": [
    "y = int(input(\"Ingrese un año para verificar si es bisiesto: \"))\n",
    "c1 = y % 4\n",
    "c2 = y % 100\n",
    "c3 = y % 400\n",
    "if (c1 == 0 and c2 != 0) or (c3 == 0):\n",
    "    print(f\"El año {y} es bisiesto.\")\n",
    "else:\n",
    "    print(f\"El año {y} no es bisiesto.\")        "
   ]
  },
  {
   "cell_type": "markdown",
   "id": "47ef2dd2",
   "metadata": {},
   "source": [
    "## Conteo de números Impares\n",
    "\n",
    "Escribe un programa que pida al usuario un número positivo N, cuente cuántos números impares hay entre 1 y N, y los muestre por pantalla."
   ]
  },
  {
   "cell_type": "markdown",
   "id": "0cff8e95",
   "metadata": {},
   "source": [
    "### Explicación\n",
    "\n",
    "Primero se ingresa un número y con el buclé while se verifica si el número ingresado es positivo o no, una vez que sea positivo se avanza.\n",
    "\n",
    "En el segundo bucle (\"for\") se hace el conteo de cuantos número impares hay entre 1 y _n_  y finalizado ese buclé se muestra el mensaje indicando cuantos números impares hay en ese lapso de numeros.\n",
    "```py\n",
    "for i in range(1, num+1,1):\n",
    "    if i % 2 != 0:\n",
    "        cont += 1\n",
    "print(f\"Hay {cont} números impares entre 1 y {num}.\")\n",
    "```\n",
    "\n",
    "\n",
    "El tercer buclé es similar al segundo, con la diferencia de que este permite imprimir los números impares entre el randgo ya definido\n",
    "```py\n",
    "print(\"Los números impares son: \")\n",
    "for i in range(1, num+1,1):\n",
    "    if i % 2 != 0:\n",
    "        print(i)\n",
    "```\n"
   ]
  },
  {
   "cell_type": "code",
   "execution_count": 17,
   "id": "f5114604",
   "metadata": {},
   "outputs": [
    {
     "name": "stdout",
     "output_type": "stream",
     "text": [
      "Hay 8 números impares entre 1 y 16.\n",
      "Los números impares son: \n",
      "1\n",
      "3\n",
      "5\n",
      "7\n",
      "9\n",
      "11\n",
      "13\n",
      "15\n"
     ]
    }
   ],
   "source": [
    "num = int(input(\"Ingrese un número: \"))\n",
    "cont = 0\n",
    "while num <= 0:\n",
    "    print(\"El número debe ser positivo. Intente de nuevo.\")\n",
    "    num = int(input(\"Ingrese un número: \"))\n",
    "\n",
    "for i in range(1, num+1,1):\n",
    "    if i % 2 != 0:\n",
    "        cont += 1\n",
    "print(f\"Hay {cont} números impares entre 1 y {num}.\")\n",
    "print(\"Los números impares son: \")\n",
    "for i in range(1, num+1,1):\n",
    "    if i % 2 != 0:\n",
    "        print(i)"
   ]
  }
 ],
 "metadata": {
  "kernelspec": {
   "display_name": "Python 3",
   "language": "python",
   "name": "python3"
  },
  "language_info": {
   "codemirror_mode": {
    "name": "ipython",
    "version": 3
   },
   "file_extension": ".py",
   "mimetype": "text/x-python",
   "name": "python",
   "nbconvert_exporter": "python",
   "pygments_lexer": "ipython3",
   "version": "3.13.7"
  }
 },
 "nbformat": 4,
 "nbformat_minor": 5
}
